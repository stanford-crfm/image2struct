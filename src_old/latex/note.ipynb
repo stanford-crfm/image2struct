{
 "cells": [
  {
   "cell_type": "code",
   "execution_count": 4,
   "metadata": {},
   "outputs": [
    {
     "data": {
      "application/vnd.jupyter.widget-view+json": {
       "model_id": "e301dee6540c441d8d500d25af408d34",
       "version_major": 2,
       "version_minor": 0
      },
      "text/plain": [
       "VBox(children=(HTML(value='<center> <img\\nsrc=https://huggingface.co/front/assets/huggingface_logo-noborder.sv…"
      ]
     },
     "metadata": {},
     "output_type": "display_data"
    }
   ],
   "source": [
    "from huggingface_hub import notebook_login\n",
    "\n",
    "# Authenticate to Hugging Face in a notebook environment\n",
    "notebook_login()"
   ]
  },
  {
   "cell_type": "code",
   "execution_count": 20,
   "metadata": {},
   "outputs": [
    {
     "data": {
      "application/vnd.jupyter.widget-view+json": {
       "model_id": "6795ebaf70b840c4b99eb5bf24283149",
       "version_major": 2,
       "version_minor": 0
      },
      "text/plain": [
       "Map:   0%|          | 0/382 [00:00<?, ? examples/s]"
      ]
     },
     "metadata": {},
     "output_type": "display_data"
    },
    {
     "data": {
      "application/vnd.jupyter.widget-view+json": {
       "model_id": "69e7844345d347c19d3ebdf49e6bd68b",
       "version_major": 2,
       "version_minor": 0
      },
      "text/plain": [
       "Map:   0%|          | 0/96 [00:00<?, ? examples/s]"
      ]
     },
     "metadata": {},
     "output_type": "display_data"
    },
    {
     "data": {
      "application/vnd.jupyter.widget-view+json": {
       "model_id": "d272be8a26a44903970986ae5066a593",
       "version_major": 2,
       "version_minor": 0
      },
      "text/plain": [
       "Casting the dataset:   0%|          | 0/382 [00:00<?, ? examples/s]"
      ]
     },
     "metadata": {},
     "output_type": "display_data"
    },
    {
     "data": {
      "application/vnd.jupyter.widget-view+json": {
       "model_id": "93fc6a1746574b32ac8a11aa1720bbbf",
       "version_major": 2,
       "version_minor": 0
      },
      "text/plain": [
       "Casting the dataset:   0%|          | 0/96 [00:00<?, ? examples/s]"
      ]
     },
     "metadata": {},
     "output_type": "display_data"
    },
    {
     "data": {
      "application/vnd.jupyter.widget-view+json": {
       "model_id": "01b34d1811eb49c18e32be0b6c5427d1",
       "version_major": 2,
       "version_minor": 0
      },
      "text/plain": [
       "Uploading the dataset shards:   0%|          | 0/1 [00:00<?, ?it/s]"
      ]
     },
     "metadata": {},
     "output_type": "display_data"
    },
    {
     "data": {
      "application/vnd.jupyter.widget-view+json": {
       "model_id": "2ad1e9c451e14efba7157369a5b9528f",
       "version_major": 2,
       "version_minor": 0
      },
      "text/plain": [
       "Map:   0%|          | 0/382 [00:00<?, ? examples/s]"
      ]
     },
     "metadata": {},
     "output_type": "display_data"
    },
    {
     "data": {
      "application/vnd.jupyter.widget-view+json": {
       "model_id": "10da3ce1324d48c2abe342871628f089",
       "version_major": 2,
       "version_minor": 0
      },
      "text/plain": [
       "Creating parquet from Arrow format:   0%|          | 0/4 [00:00<?, ?ba/s]"
      ]
     },
     "metadata": {},
     "output_type": "display_data"
    },
    {
     "data": {
      "application/vnd.jupyter.widget-view+json": {
       "model_id": "09f79518d3d0421e9d3c6d7500a801c7",
       "version_major": 2,
       "version_minor": 0
      },
      "text/plain": [
       "Uploading the dataset shards:   0%|          | 0/1 [00:00<?, ?it/s]"
      ]
     },
     "metadata": {},
     "output_type": "display_data"
    },
    {
     "data": {
      "application/vnd.jupyter.widget-view+json": {
       "model_id": "23de66c11dbc450091d320be474f31b2",
       "version_major": 2,
       "version_minor": 0
      },
      "text/plain": [
       "Map:   0%|          | 0/96 [00:00<?, ? examples/s]"
      ]
     },
     "metadata": {},
     "output_type": "display_data"
    },
    {
     "data": {
      "application/vnd.jupyter.widget-view+json": {
       "model_id": "0b60f903310840998c289bf4682a245b",
       "version_major": 2,
       "version_minor": 0
      },
      "text/plain": [
       "Creating parquet from Arrow format:   0%|          | 0/1 [00:00<?, ?ba/s]"
      ]
     },
     "metadata": {},
     "output_type": "display_data"
    },
    {
     "data": {
      "application/vnd.jupyter.widget-view+json": {
       "model_id": "a96f074add054ac988bc17f26369e6ba",
       "version_major": 2,
       "version_minor": 0
      },
      "text/plain": [
       "README.md:   0%|          | 0.00/2.72k [00:00<?, ?B/s]"
      ]
     },
     "metadata": {},
     "output_type": "display_data"
    }
   ],
   "source": [
    "from PIL import Image\n",
    "import io\n",
    "from datasets import Dataset, DatasetDict\n",
    "import pandas as pd\n",
    "from sklearn.model_selection import train_test_split\n",
    "from huggingface_hub import HfApi, HfFolder\n",
    "from toolbox.printing import debug\n",
    "import random\n",
    "CATEGORIES = [\"equation\", \"figure\", \"table\", \"plot\", \"algorithm\"]\n",
    "CAT_INDEX = 3\n",
    "\n",
    "for category in CATEGORIES[CAT_INDEX:CAT_INDEX+1]:\n",
    "    df = pd.read_csv(f\"dataset_{category}.csv\")\n",
    "    # Shuffle dataframe\n",
    "    df = df.sample(frac=1).reset_index(drop=True)\n",
    "    train_df, valid_df = train_test_split(df, test_size=0.2)\n",
    "\n",
    "    def load_image(image_path):\n",
    "        if image_path.lower().endswith(\".png\") or image_path.lower().endswith(\".jpg\"):\n",
    "            with open(image_path, \"rb\") as f:\n",
    "                return Image.open(io.BytesIO(f.read()))\n",
    "        else:\n",
    "            with open(image_path, \"rb\") as f:\n",
    "                return io.BytesIO(f.read())\n",
    "\n",
    "    def read_file(file_path):\n",
    "        with open(file_path, \"r\") as file:\n",
    "            return file.read()\n",
    "\n",
    "    def transform(row):\n",
    "        row[\"tex_code\"] = read_file(row[\"tex_code\"])\n",
    "        for key in [\"output\"]:\n",
    "            if row[key] is not None and len(row[key]) > 0:\n",
    "                row[key] = load_image(row[key])\n",
    "        return row\n",
    "\n",
    "    train_dataset = Dataset.from_pandas(train_df).map(transform).shuffle()\n",
    "    valid_dataset = Dataset.from_pandas(valid_df).map(transform).shuffle()\n",
    "\n",
    "    from datasets import Features, Value, Image, load_dataset\n",
    "\n",
    "    # Define the features of your dataset\n",
    "    features = Features({\n",
    "        'id': Value('int64'),\n",
    "        'tex_code': Value('string'),\n",
    "        'category': Value('string'),\n",
    "        'subject': Value('string'),\n",
    "        'output': Image(),        # For image features\n",
    "        'asset_0': Value('string'),\n",
    "        'asset_1': Value('string'),\n",
    "        'asset_2': Value('string'),\n",
    "        'asset_3': Value('string'),\n",
    "        'asset_4': Value('string'),\n",
    "        'asset_5': Value('string'),\n",
    "        'asset_6': Value('string'),\n",
    "        'asset_7': Value('string'),\n",
    "        'asset_8': Value('string'),\n",
    "        'asset_9': Value('string'),\n",
    "        '__index_level_0__': Value('int64')\n",
    "    })\n",
    "\n",
    "    train_dataset = train_dataset.cast(features)\n",
    "    valid_dataset = valid_dataset.cast(features)\n",
    "\n",
    "    dataset_dict = DatasetDict({\"train\": train_dataset, \"validation\": valid_dataset})\n",
    "    # help(dataset_dict.push_to_hub)\n",
    "    # Then save or upload as before\n",
    "\n",
    "\n",
    "    dataset_dict.push_to_hub(\"JosselinSom/Latex-VLM\")"
   ]
  },
  {
   "cell_type": "code",
   "execution_count": null,
   "metadata": {},
   "outputs": [],
   "source": []
  }
 ],
 "metadata": {
  "kernelspec": {
   "display_name": "vlm",
   "language": "python",
   "name": "python3"
  },
  "language_info": {
   "codemirror_mode": {
    "name": "ipython",
    "version": 3
   },
   "file_extension": ".py",
   "mimetype": "text/x-python",
   "name": "python",
   "nbconvert_exporter": "python",
   "pygments_lexer": "ipython3",
   "version": "3.10.13"
  }
 },
 "nbformat": 4,
 "nbformat_minor": 2
}
